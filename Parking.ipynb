{
 "cells": [
  {
   "cell_type": "code",
   "execution_count": null,
   "id": "808665ad-7527-41ad-881b-f8dcdfc3ea2d",
   "metadata": {},
   "outputs": [],
   "source": [
    "import pandas as pd"
   ]
  },
  {
   "cell_type": "code",
   "execution_count": null,
   "id": "23bf6740-2669-4c53-8e82-348c0f5b52ae",
   "metadata": {},
   "outputs": [],
   "source": [
    "df = pd.read_csv(\"311_Service_Requests_2020.csv\")"
   ]
  },
  {
   "cell_type": "code",
   "execution_count": null,
   "id": "7d3a690e-02c4-42f0-a0dc-786e08b54a6b",
   "metadata": {},
   "outputs": [],
   "source": [
    "Zip10025 = df[df['Incident Zip'] == 10025] #filtering zip code 10025\n",
    "IllPark_10025=Zip10025[Zip10025['Complaint Type'] == \"Illegal Parking\"] #filtering illegal parking in 10025\n",
    "IllParkRatio10025=len(IllPark_10025)/len(Zip10025) #Ratio of illegal parking to all reports in 10025\n",
    "IllPark_All=df[df['Complaint Type']==\"Illegal Parking\"] #filtering illegal parking in all reports\n",
    "All_Park_Ratio=len(IllPark_All)/len(df) #Ratio of illegal parking to all reports in all NYC\n",
    "higher_parking_proportion = IllParkRatio10025 > All_Park_Ratio #Boolean - True if 10025 parking ratio more than NYC parking ratio\n",
    "higher_parking_proportion"
   ]
  },
  {
   "cell_type": "code",
   "execution_count": null,
   "id": "ccac4ed2-be1a-4fb0-bf7a-7124b53d3f1c",
   "metadata": {},
   "outputs": [],
   "source": []
  }
 ],
 "metadata": {
  "kernelspec": {
   "display_name": "Python 3",
   "language": "python",
   "name": "python3"
  },
  "language_info": {
   "codemirror_mode": {
    "name": "ipython",
    "version": 3
   },
   "file_extension": ".py",
   "mimetype": "text/x-python",
   "name": "python",
   "nbconvert_exporter": "python",
   "pygments_lexer": "ipython3",
   "version": "3.8.8"
  }
 },
 "nbformat": 4,
 "nbformat_minor": 5
}
